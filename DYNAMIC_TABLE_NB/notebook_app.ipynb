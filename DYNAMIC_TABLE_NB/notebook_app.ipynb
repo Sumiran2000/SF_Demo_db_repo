{
 "metadata": {
  "kernelspec": {
   "display_name": "Streamlit Notebook",
   "name": "streamlit"
  }
 },
 "nbformat_minor": 5,
 "nbformat": 4,
 "cells": [
  {
   "cell_type": "code",
   "id": "c08cc681-0104-46ba-a9f2-8d741f2de38a",
   "metadata": {
    "language": "sql",
    "name": "cell1",
    "collapsed": false
   },
   "outputs": [],
   "source": "CREATE DATABASE IF NOT EXISTS DEMO;\nCREATE SCHEMA IF NOT EXISTS DEMO.DT_DEMO;\nUSE SCHEMA DEMO.DT_DEMO;\n\n",
   "execution_count": null
  },
  {
   "cell_type": "markdown",
   "id": "86aeef84-d7ec-4202-a531-14a68d92a724",
   "metadata": {
    "name": "cell25",
    "collapsed": false
   },
   "source": "parameters of dynamic table\nwhere we can see all alerts at one place"
  },
  {
   "cell_type": "code",
   "id": "d0fc0eae-ee7b-4eef-b11f-e8d9d59f036e",
   "metadata": {
    "language": "sql",
    "name": "cell2",
    "collapsed": false,
    "codeCollapsed": false
   },
   "outputs": [],
   "source": "create or replace function gen_cust_info(num_records number)\nreturns table (custid number(10), cname varchar(100), spendlimit number(10,2))\nlanguage python\nruntime_version=3.8\nhandler='CustTab'\npackages = ('Faker')\nas $$\nfrom faker import Faker\nimport random\n\nfake = Faker()\n# Generate a list of customers  \n\nclass CustTab:\n    # Generate multiple customer records\n    def process(self, num_records):\n        customer_id = 1000 # Starting customer ID                 \n        for _ in range(num_records):\n            custid = customer_id + 1\n            cname = fake.name()\n            spendlimit = round(random.uniform(1000, 10000),2)\n            customer_id += 1\n            yield (custid,cname,spendlimit)\n\n$$;\n\ncreate or replace table cust_info as select * from table(gen_cust_info(1000)) order by 1;",
   "execution_count": null
  },
  {
   "cell_type": "code",
   "id": "0073e73e-c263-4a33-9e4d-0aade0b78d6f",
   "metadata": {
    "language": "sql",
    "name": "cell8",
    "collapsed": false
   },
   "outputs": [],
   "source": "select * from table(gen_cust_info(1000)) order by 1",
   "execution_count": null
  },
  {
   "cell_type": "code",
   "id": "8791e6d8-1706-4765-b07b-e072064cb807",
   "metadata": {
    "language": "sql",
    "name": "cell3",
    "collapsed": false
   },
   "outputs": [],
   "source": "create or replace function gen_prod_inv(num_records number)\nreturns table (pid number(10), pname varchar(100), stock number(10,2), stockdate date)\nlanguage python\nruntime_version=3.8\nhandler='ProdTab'\npackages = ('Faker')\nas $$\nfrom faker import Faker\nimport random\nfrom datetime import datetime, timedelta\nfake = Faker()\n\nclass ProdTab:\n    # Generate multiple product records\n    def process(self, num_records):\n        product_id = 100 # Starting customer ID                 \n        for _ in range(num_records):\n            pid = product_id + 1\n            pname = fake.catch_phrase()\n            stock = round(random.uniform(500, 1000),0)\n            # Get the current date\n            current_date = datetime.now()\n            \n            # Calculate the maximum date (3 months from now)\n            min_date = current_date - timedelta(days=90)\n            \n            # Generate a random date within the date range\n            stockdate = fake.date_between_dates(min_date,current_date)\n\n            product_id += 1\n            yield (pid,pname,stock,stockdate)\n\n$$;\n\ncreate or replace table prod_stock_inv as select * from table(gen_prod_inv(100)) order by 1;",
   "execution_count": null
  },
  {
   "cell_type": "code",
   "id": "c815056d-bea3-4e7c-a986-f46091fb3b7c",
   "metadata": {
    "language": "sql",
    "name": "cell4"
   },
   "outputs": [],
   "source": "create or replace function gen_cust_purchase(num_records number,ndays number)\nreturns table (custid number(10), purchase variant)\nlanguage python\nruntime_version=3.8\nhandler='genCustPurchase'\npackages = ('Faker')\nas $$\nfrom faker import Faker\nimport random\nfrom datetime import datetime, timedelta\n\nfake = Faker()\n\nclass genCustPurchase:\n    # Generate multiple customer purchase records\n    def process(self, num_records,ndays):       \n        for _ in range(num_records):\n            c_id = fake.random_int(min=1001, max=1999)\n            \n            #print(c_id)\n            customer_purchase = {\n                'custid': c_id,\n                'purchased': []\n            }\n            # Get the current date\n            current_date = datetime.now()\n            \n            # Calculate the maximum date (days from now)\n            min_date = current_date - timedelta(days=ndays)\n            \n            # Generate a random date within the date range\n            pdate = fake.date_between_dates(min_date,current_date)\n            \n            purchase = {\n                'prodid': fake.random_int(min=101, max=199),\n                'quantity': fake.random_int(min=1, max=5),\n                'purchase_amount': round(random.uniform(10, 1000),2),\n                'purchase_date': pdate\n            }\n            customer_purchase['purchased'].append(purchase)\n            \n            #customer_purchases.append(customer_purchase)\n            yield (c_id,purchase)\n\n$$;\n\n-- Create table and insert records \ncreate or replace table salesdata as select * from table(gen_cust_purchase(10000,10));",
   "execution_count": null
  },
  {
   "cell_type": "code",
   "id": "b3d2d1fc-c8c8-46cf-97a8-aeeab2d8020a",
   "metadata": {
    "language": "sql",
    "name": "cell7",
    "collapsed": false
   },
   "outputs": [],
   "source": "-- sales data for products purchsaed online by various customers\nselect * from salesdata limit 10;",
   "execution_count": null
  },
  {
   "cell_type": "code",
   "id": "7f68307b-6558-4a1c-920a-40541c992155",
   "metadata": {
    "language": "sql",
    "name": "cell6",
    "collapsed": false
   },
   "outputs": [],
   "source": "-- product stock table, each product has stock level from fulfilment day\n\nselect * from prod_stock_inv limit 10;\n\n",
   "execution_count": null
  },
  {
   "cell_type": "code",
   "id": "ec95cc39-0be5-4391-988a-125d41cefe87",
   "metadata": {
    "language": "sql",
    "name": "cell5",
    "collapsed": false
   },
   "outputs": [],
   "source": "-- customer information table, each customer has spending limits\nselect * from cust_info limit 10;\n\n",
   "execution_count": null
  },
  {
   "cell_type": "code",
   "id": "94bc15c4-5f52-40e2-ba51-d0f435557a44",
   "metadata": {
    "language": "sql",
    "name": "cell9",
    "collapsed": false
   },
   "outputs": [],
   "source": "USE SCHEMA DEMO.DT_DEMO;\n\nCREATE OR REPLACE DYNAMIC TABLE customer_sales_data_history\n    LAG='DOWNSTREAM'\n    WAREHOUSE=XSMALL_WH\nAS\nselect \n    s.custid as customer_id,\n    c.cname as customer_name,\n    s.purchase:\"prodid\"::number(5) as product_id,\n    s.purchase:\"purchase_amount\"::number(10) as saleprice,\n    s.purchase:\"quantity\"::number(5) as quantity,\n    s.purchase:\"purchase_date\"::date as salesdate\nfrom\n    cust_info c inner join salesdata s on c.custid = s.custid\n;",
   "execution_count": null
  },
  {
   "cell_type": "code",
   "id": "be830fc1-0e77-4add-9075-bc78456a6c68",
   "metadata": {
    "language": "sql",
    "name": "cell11",
    "collapsed": false
   },
   "outputs": [],
   "source": "select * from CUSTOMER_SALES_DATA_HISTORY;",
   "execution_count": null
  },
  {
   "cell_type": "code",
   "id": "02554c13-f720-4d92-aab6-7b4e2a76b233",
   "metadata": {
    "language": "sql",
    "name": "cell10",
    "collapsed": false
   },
   "outputs": [],
   "source": "-- quick sanity check\nselect * from customer_sales_data_history limit 10;\nselect count(*) from customer_sales_data_history;",
   "execution_count": null
  },
  {
   "cell_type": "code",
   "id": "d3b25eed-4cf1-416d-b7ae-701fc829aaf4",
   "metadata": {
    "language": "sql",
    "name": "cell12",
    "collapsed": false
   },
   "outputs": [],
   "source": "CREATE OR REPLACE DYNAMIC TABLE salesreport\n    LAG = '1 MINUTE'\n    WAREHOUSE=XSMALL_WH\nAS\n    Select\n        t1.customer_id,\n        t1.customer_name, \n        t1.product_id,\n        p.pname as product_name,\n        t1.saleprice,\n        t1.quantity,\n        (t1.saleprice/t1.quantity) as unitsalesprice,\n        t1.salesdate as CreationTime,\n        customer_id || '-' || t1.product_id  || '-' || t1.salesdate AS CUSTOMER_SK,\n        LEAD(CreationTime) OVER (PARTITION BY t1.customer_id ORDER BY CreationTime ASC) AS END_TIME\n    from \n        customer_sales_data_history t1 inner join prod_stock_inv p \n        on t1.product_id = p.pid\n       \n;",
   "execution_count": null
  },
  {
   "cell_type": "code",
   "id": "af525074-cc12-401b-9ed2-61ba2f02f716",
   "metadata": {
    "language": "sql",
    "name": "cell13",
    "collapsed": false
   },
   "outputs": [],
   "source": "select * from salesreport limit 10;\nselect count(*) from salesreport;",
   "execution_count": null
  },
  {
   "cell_type": "code",
   "id": "933fd7b7-c7f2-4bd4-89ec-cc866aef1abc",
   "metadata": {
    "language": "sql",
    "name": "cell14",
    "collapsed": false
   },
   "outputs": [],
   "source": "-- Add new records\ninsert into salesdata select * from table(gen_cust_purchase(10000,2));\n\n-- Check raw base table\nselect count(*) from salesdata;\n\n-- Check Dynamic Tables after a minute\nselect count(*) from customer_sales_data_history;\nselect count(*) from salesreport;\n",
   "execution_count": null
  },
  {
   "cell_type": "code",
   "id": "c65e7219-2cd3-45bf-b878-903f4989085d",
   "metadata": {
    "language": "sql",
    "name": "cell15"
   },
   "outputs": [],
   "source": "USE SCHEMA DEMO.DT_DEMO;\n\nCREATE OR REPLACE FUNCTION sum_table (INPUT_NUMBER number)\n  returns TABLE (running_total number)\n  language python\n  runtime_version = '3.8'\n  handler = 'gen_sum_table'\nas\n$$\n\n# Define handler class\nclass gen_sum_table :\n\n  ## Define __init__ method ro initilize the variable\n  def __init__(self) :    \n    self._running_sum = 0\n  \n  ## Define process method\n  def process(self, input_number: float) :\n    # Increment running sum with data from the input row\n    new_total = self._running_sum + input_number\n    self._running_sum = new_total\n\n    yield(new_total,)\n  \n$$\n;",
   "execution_count": null
  },
  {
   "cell_type": "code",
   "id": "8566db13-80e4-46ae-b9b6-cd8bc5478268",
   "metadata": {
    "language": "sql",
    "name": "cell16",
    "collapsed": false
   },
   "outputs": [],
   "source": "CREATE OR REPLACE DYNAMIC TABLE cumulative_purchase\n    LAG = '1 MINUTE'\n    WAREHOUSE=XSMALL_WH\nAS\n    select \n        month(creationtime) monthNum,\n        year(creationtime) yearNum,\n        customer_id, \n        saleprice,\n        running_total \n    from \n        salesreport,\n        table(sum_table(saleprice) over (partition by creationtime,customer_id order by creationtime, customer_id))\n       \n;",
   "execution_count": null
  },
  {
   "cell_type": "code",
   "id": "5b17107b-b364-4c98-b215-9dc52d092fa6",
   "metadata": {
    "language": "sql",
    "name": "cell17",
    "collapsed": false
   },
   "outputs": [],
   "source": "select * from  cumulative_purchase limit 10;",
   "execution_count": null
  },
  {
   "cell_type": "code",
   "id": "6f2d7c4a-1af0-4a0d-bef2-60805c879798",
   "metadata": {
    "language": "sql",
    "name": "cell18",
    "collapsed": false
   },
   "outputs": [],
   "source": "USE SCHEMA DEMO.DT_DEMO;\n\nCREATE OR REPLACE DYNAMIC TABLE PROD_INV_ALERT\n    LAG = '1 MINUTE'\n    WAREHOUSE=XSMALL_WH\nAS\n    SELECT \n        S.PRODUCT_ID, \n        S.PRODUCT_NAME,CREATIONTIME AS LATEST_SALES_DATE,\n        STOCK AS BEGINING_STOCK,\n        SUM(S.QUANTITY) OVER (PARTITION BY S.PRODUCT_ID ORDER BY CREATIONTIME) TOTALUNITSOLD, \n        (STOCK - TOTALUNITSOLD) AS UNITSLEFT,\n        ROUND(((STOCK-TOTALUNITSOLD)/STOCK) *100,2) PERCENT_UNITLEFT,\n        CURRENT_TIMESTAMP() AS ROWCREATIONTIME\n    FROM SALESREPORT S JOIN PROD_STOCK_INV ON PRODUCT_ID = PID\n    QUALIFY ROW_NUMBER() OVER (PARTITION BY PRODUCT_ID ORDER BY CREATIONTIME DESC) = 1\n;",
   "execution_count": null
  },
  {
   "cell_type": "code",
   "id": "391b0cd3-ab7e-4d7b-a21f-e6296733fc80",
   "metadata": {
    "language": "sql",
    "name": "cell19",
    "collapsed": false
   },
   "outputs": [],
   "source": "-- check products with low inventory and alert\nselect * from prod_inv_alert where percent_unitleft < 10;",
   "execution_count": null
  },
  {
   "cell_type": "code",
   "id": "2e871b17-a5c8-445e-bfac-97c528605754",
   "metadata": {
    "language": "sql",
    "name": "cell20",
    "collapsed": false
   },
   "outputs": [],
   "source": "CREATE NOTIFICATION INTEGRATION IF NOT EXISTS\n    notification_emailer\n    TYPE=EMAIL\n    ENABLED=TRUE\n    ALLOWED_RECIPIENTS=('sourabhyejare9455@gmail.com')\n    COMMENT = 'email integration to update on low product inventory levels'\n;\n\nCREATE OR REPLACE ALERT alert_low_inv\n  WAREHOUSE = XSMALL_WH\n  SCHEDULE = '30 MINUTE'\n  IF (EXISTS (\n      SELECT *\n      FROM prod_inv_alert\n      WHERE percent_unitleft < 10 and ROWCREATIONTIME > SNOWFLAKE.ALERT.LAST_SUCCESSFUL_SCHEDULED_TIME()\n  ))\n  THEN CALL SYSTEM$SEND_EMAIL(\n                'notification_emailer', -- notification integration to use\n                'sourabhyejare9455@gmail.com', -- Email\n                'Email Alert: Low Inventory of products', -- Subject\n                'Inventory running low for certain products. Please check the inventory report in Snowflake table prod_inv_alert' -- Body of email\n);\n\n-- Alerts are pause by default, so let's resume it first\nALTER ALERT alert_low_inv RESUME;\n\n-- Add new records\ninsert into salesdata select * from table(gen_cust_purchase(10000,2));",
   "execution_count": null
  },
  {
   "cell_type": "code",
   "id": "56124371-298e-46b5-b95f-23a8738f5f07",
   "metadata": {
    "language": "sql",
    "name": "cell21",
    "collapsed": false
   },
   "outputs": [],
   "source": "-- Monitor alerts in detail\nSHOW ALERTS;\n\n",
   "execution_count": null
  },
  {
   "cell_type": "code",
   "id": "a3b45f3b-d013-4a79-8265-b0f255932594",
   "metadata": {
    "language": "sql",
    "name": "cell22"
   },
   "outputs": [],
   "source": "SELECT *\nFROM\n  TABLE(INFORMATION_SCHEMA.ALERT_HISTORY(\n    SCHEDULED_TIME_RANGE_START\n      =>dateadd('hour',-1,current_timestamp())))\nWHERE\n    NAME = 'ALERT_LOW_INV'\nORDER BY SCHEDULED_TIME DESC;\n\n",
   "execution_count": null
  },
  {
   "cell_type": "code",
   "id": "ae20dc06-63a4-46aa-a170-89a38a1bc302",
   "metadata": {
    "language": "sql",
    "name": "cell23"
   },
   "outputs": [],
   "source": "-- Suspend Alerts \n-- Important step to suspend alert and stop consuming the warehouse credit\nALTER ALERT alert_low_inv SUSPEND;",
   "execution_count": null
  },
  {
   "cell_type": "code",
   "id": "328e7ac1-dd3e-4a00-81ba-baee5e8b3644",
   "metadata": {
    "language": "sql",
    "name": "cell24"
   },
   "outputs": [],
   "source": "SELECT * \nFROM \n    TABLE(INFORMATION_SCHEMA.DYNAMIC_TABLE_REFRESH_HISTORY())\nWHERE \n    NAME IN ('SALESREPORT','CUSTOMER_SALES_DATA_HISTORY','PROD_INV_ALERT','CUMULATIVE_PURCHASE')\n    -- AND REFRESH_ACTION != 'NO_DATA'\nORDER BY \n    DATA_TIMESTAMP DESC, REFRESH_END_TIME DESC LIMIT 10;",
   "execution_count": null
  }
 ]
}