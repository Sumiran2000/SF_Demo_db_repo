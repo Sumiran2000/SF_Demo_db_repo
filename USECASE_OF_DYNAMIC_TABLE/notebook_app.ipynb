{
 "metadata": {
  "kernelspec": {
   "display_name": "Streamlit Notebook",
   "name": "streamlit"
  }
 },
 "nbformat_minor": 5,
 "nbformat": 4,
 "cells": [
  {
   "cell_type": "code",
   "id": "3775908f-ca36-4846-8f38-5adca39217f2",
   "metadata": {
    "language": "sql",
    "name": "cell1",
    "collapsed": false
   },
   "source": "CREATE TABLE TempleDonations (\n    DonationID NUMBER AUTOINCREMENT START 1 INCREMENT 1 PRIMARY KEY,\n    DonorName VARCHAR(100) NOT NULL,\n    DonorEmail VARCHAR(100),\n    DonorPhone VARCHAR(20),\n    DonationAmount NUMBER(10, 2) NOT NULL,\n    DonationDate DATE NOT NULL,\n    DonationMethod STRING, -- e.g., Cash, Credit Card, Online Transfer, etc.\n    Purpose STRING, -- e.g., General Fund, Special Event, etc.\n    Remarks STRING\n);\n",
   "execution_count": null,
   "outputs": []
  },
  {
   "cell_type": "code",
   "id": "8d50cbf4-0c8d-4950-86cb-114990437ac9",
   "metadata": {
    "language": "python",
    "name": "cell2",
    "collapsed": false
   },
   "source": "import streamlit as st\nfrom datetime import datetime\nfrom snowflake.snowpark.context import get_active_session\nimport pandas as pd\nimport time\n\n# Initialize Snowpark session\nsession = get_active_session()\n\n# Function to insert data into the TempleDonations table\ndef insert_into_temple_donations( donor_name, donor_email, donor_phone, donation_amount, donation_date, donation_method, purpose, remarks):\n    \"\"\"\n    This function inserts data into the TempleDonations table using Snowflake SQL.\n    \"\"\"\n    query = f\"\"\"\n    INSERT INTO TempleDonations ( DonorName, DonorEmail, DonorPhone, DonationAmount, DonationDate, DonationMethod, Purpose, Remarks)\n    VALUES ( '{donor_name}', '{donor_email}', '{donor_phone}', {donation_amount}, '{donation_date}', '{donation_method}', '{purpose}', '{remarks}');\n    \"\"\"\n    return query\n\n# Streamlit app title\nst.title(\"Temple Donations\")\n\n# Form to add a new donation\nwith st.form(key='donation_form'):\n    donor_name = st.text_input(\"Donor Name\", max_chars=100)\n    donor_email = st.text_input(\"Donor Email\", max_chars=100)\n    donor_phone = st.text_input(\"Donor Phone\", max_chars=20)\n    donation_amount = st.number_input(\"Donation Amount\", min_value=0.0)\n    donation_date = st.date_input(\"Donation Date\", datetime.today())\n    donation_method = st.selectbox(\"Donation Method\", [\"Cash\", \"Credit Card\", \"Online Transfer\", \"Other\"])\n    purpose = st.text_input(\"Purpose\", max_chars=100)\n    remarks = st.text_area(\"Remarks\")\n    \n    # Simulate a unique DonationID (in practice, this could be managed differently)\n    #donation_id = st.number_input(\"Donation ID\", min_value=1, value=1, step=1)\n    \n    #submit_button = st.form_submit_button(label='Submit')\n\n# If the form is submitted, add the donation\nif st.button(\"SUBMIT\"):\n    result = insert_into_temple_donations( donor_name, donor_email, donor_phone, donation_amount, donation_date, donation_method, purpose, remarks)\n    session.sql(result).collect()\n    st.success(\"Donation added successfully!\")\n\n# Display donation summary\nst.header(\"Donation Summary\")\n\n# Query to fetch data from the dynamic table\nquery = \"\"\"\nSELECT total_donations, donor_count\nFROM donation_summary_dynamic\n\"\"\"\n\n# Fetch the data\ndf = session.sql(query)\n\n# Display the data\nst.write(\"Total Donations and Donor Count\")\nst.write(\"Refreshing in 60 seconds...\")\nst.write(df)\ntime.sleep(70)\nst.experimental_rerun()\n\n",
   "execution_count": null,
   "outputs": []
  },
  {
   "cell_type": "code",
   "id": "c695373e-ac74-4b62-a1f1-08206cbd5c81",
   "metadata": {
    "language": "sql",
    "name": "cell3",
    "collapsed": false
   },
   "source": "CREATE OR REPLACE DYNAMIC TABLE donation_summary_dynamic\n  WAREHOUSE = 'COMPUTE_WH'\n  LAG= '1 minute'\n  AS\nSELECT\n  SUM(DonationAmount) AS total_donations,\n  COUNT(*) AS donor_count\nFROM\n  TempleDonations;\n",
   "execution_count": null,
   "outputs": []
  },
  {
   "cell_type": "code",
   "id": "ad022f59-87c5-4ba4-8dce-9aa56aedc42e",
   "metadata": {
    "language": "sql",
    "name": "cell4",
    "collapsed": false
   },
   "outputs": [],
   "source": "select * from TempleDonations;",
   "execution_count": null
  }
 ]
}